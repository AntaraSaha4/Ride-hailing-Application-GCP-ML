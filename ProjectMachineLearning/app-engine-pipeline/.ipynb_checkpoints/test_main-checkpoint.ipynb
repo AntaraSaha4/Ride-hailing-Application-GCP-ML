{
 "cells": [
  {
   "cell_type": "code",
   "execution_count": 24,
   "id": "b90840f8-f507-4da8-aff3-1d40434b8856",
   "metadata": {},
   "outputs": [],
   "source": [
    "import base64\n",
    "import requests"
   ]
  },
  {
   "cell_type": "code",
   "execution_count": null,
   "id": "4ccd59ee-97c7-4efe-8114-6f94825f17ab",
   "metadata": {},
   "outputs": [],
   "source": [
    "with open(\"./test_dataset/the_cooper_union_the_juilliard_school.wav\", \"rb\") as f:\n",
    "    speech = f.read()\n",
    "    speech_data = str(base64.b64encode(speech).decode(\"utf-8\"))\n",
    "    endpoint = \"http://localhost:5000\"\n",
    "    \n",
    "    response = requests.post('{}/farePrediction'.format(endpoint), data=speech_data)\n",
    "    print(response.json())"
   ]
  },
  {
   "cell_type": "code",
   "execution_count": 25,
   "id": "43b71f89-1244-4fe2-8cf2-f574c88940d4",
   "metadata": {},
   "outputs": [
    {
     "name": "stdout",
     "output_type": "stream",
     "text": [
      "{'start_location': {'lng': -73.99116719999999, 'lat': 40.72792270000001}, 'end_location': {'lng': -73.9834602, 'lat': 40.7735666}}\n"
     ]
    }
   ],
   "source": [
    "# Sppech To Text\n",
    "with open(\"./test_dataset/the_cooper_union_the_juilliard_school.wav\", \"rb\") as f:\n",
    "    speech = f.read()\n",
    "    speech_data = str(base64.b64encode(speech).decode(\"utf-8\"))\n",
    "    endpoint = \"http://localhost:5000\"\n",
    "    \n",
    "    response_text = requests.post('{}/speechToText'.format(endpoint), data=speech_data)\n",
    "    test_entities = response_text.json().get('text')\n",
    "\n",
    "    response_entities = requests.get('{}/namedEntities'.format(endpoint), params={'text': test_entities})\n",
    "    origin = response_entities.json().get('entities')[0]\n",
    "    destination = response_entities.json().get('entities')[1]\n",
    "\n",
    "    response_dir = requests.get('{}/directions'.format(endpoint), params={'origin': origin, 'destination': destination})\n",
    "\n",
    "    print(response_dir.json())"
   ]
  },
  {
   "cell_type": "code",
   "execution_count": 6,
   "id": "ca0af967-374e-4d29-86a3-7d55a37c30e0",
   "metadata": {},
   "outputs": [
    {
     "data": {
      "text/plain": [
       "-73.99116719999999"
      ]
     },
     "execution_count": 6,
     "metadata": {},
     "output_type": "execute_result"
    }
   ],
   "source": [
    "response_dir.json()[\"start_location\"][\"lng\"]"
   ]
  },
  {
   "cell_type": "code",
   "execution_count": null,
   "id": "37a62841-3903-4d1e-85cb-45093de8eb0d",
   "metadata": {},
   "outputs": [],
   "source": []
  }
 ],
 "metadata": {
  "kernelspec": {
   "display_name": "Python 3 (ipykernel)",
   "language": "python",
   "name": "python3"
  },
  "language_info": {
   "codemirror_mode": {
    "name": "ipython",
    "version": 3
   },
   "file_extension": ".py",
   "mimetype": "text/x-python",
   "name": "python",
   "nbconvert_exporter": "python",
   "pygments_lexer": "ipython3",
   "version": "3.8.10"
  }
 },
 "nbformat": 4,
 "nbformat_minor": 5
}
